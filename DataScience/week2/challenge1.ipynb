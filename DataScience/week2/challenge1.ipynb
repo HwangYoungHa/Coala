{
 "cells": [
  {
   "cell_type": "code",
   "execution_count": 2,
   "metadata": {},
   "outputs": [],
   "source": [
    "phonebook = [{'name' : '박지성', 'phone' : '01040281234'}, {'name' : '이청용', 'phone' : '01001234567'}, {'name' : '손흥민', 'phone' : '01000000000'}]"
   ]
  },
  {
   "cell_type": "code",
   "execution_count": 3,
   "metadata": {},
   "outputs": [
    {
     "name": "stdout",
     "output_type": "stream",
     "text": [
      "-----------------\n"
     ]
    }
   ],
   "source": [
    "print('-----------------')"
   ]
  },
  {
   "cell_type": "code",
   "execution_count": 4,
   "metadata": {},
   "outputs": [
    {
     "name": "stdout",
     "output_type": "stream",
     "text": [
      "[{'name': '박지성', 'phone': '01040281234'}, {'name': '이청용', 'phone': '01001234567'}, {'name': '손흥민', 'phone': '01000000000'}]\n"
     ]
    }
   ],
   "source": [
    "print(phonebook)"
   ]
  },
  {
   "cell_type": "code",
   "execution_count": 5,
   "metadata": {},
   "outputs": [
    {
     "name": "stdout",
     "output_type": "stream",
     "text": [
      "{'name': '이청용', 'phone': '01001234567'}\n"
     ]
    }
   ],
   "source": [
    "# 이청용 정보만 출력하기\n",
    "print(phonebook[1])"
   ]
  },
  {
   "cell_type": "code",
   "execution_count": null,
   "metadata": {},
   "outputs": [],
   "source": []
  }
 ],
 "metadata": {
  "kernelspec": {
   "display_name": "Python 3",
   "language": "python",
   "name": "python3"
  },
  "language_info": {
   "codemirror_mode": {
    "name": "ipython",
    "version": 3
   },
   "file_extension": ".py",
   "mimetype": "text/x-python",
   "name": "python",
   "nbconvert_exporter": "python",
   "pygments_lexer": "ipython3",
   "version": "3.7.6"
  }
 },
 "nbformat": 4,
 "nbformat_minor": 4
}
