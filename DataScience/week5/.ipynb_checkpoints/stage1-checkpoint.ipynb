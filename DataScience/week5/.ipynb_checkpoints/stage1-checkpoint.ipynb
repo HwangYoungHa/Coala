{
 "cells": [
  {
   "cell_type": "code",
   "execution_count": 1,
   "metadata": {},
   "outputs": [],
   "source": [
    "# 9개의 좌표\n",
    "data = [(1,2), (2, 2.5), (3, 2), # list로 바꿔도 상관 x\n",
    "        (3, 3), (4, 3), (5,5),\n",
    "        (6, 2), (7, 4), (8, 5)]"
   ]
  },
  {
   "cell_type": "code",
   "execution_count": 2,
   "metadata": {},
   "outputs": [],
   "source": [
    "# y = ax + b에서의 a, b값 가정\n",
    "a = 0.5\n",
    "b = 0.5"
   ]
  },
  {
   "cell_type": "code",
   "execution_count": 26,
   "metadata": {},
   "outputs": [
    {
     "name": "stdout",
     "output_type": "stream",
     "text": [
      "x 좌표는?:  1  / y 좌표는?:  2\n",
      "x 좌표는?:  2  / y 좌표는?:  2.5\n",
      "x 좌표는?:  3  / y 좌표는?:  2\n",
      "x 좌표는?:  3  / y 좌표는?:  3\n",
      "x 좌표는?:  4  / y 좌표는?:  3\n",
      "x 좌표는?:  5  / y 좌표는?:  5\n",
      "x 좌표는?:  6  / y 좌표는?:  2\n",
      "x 좌표는?:  7  / y 좌표는?:  4\n",
      "x 좌표는?:  8  / y 좌표는?:  5\n",
      "오차들의 총합 :  6.650000000000001\n"
     ]
    }
   ],
   "source": [
    "# 오차들의 총합 구하기\n",
    "sums = 0\n",
    "for (x, y) in data:\n",
    "    print('x 좌표는?: ', x, ' / ', end='')\n",
    "    print('y 좌표는?: ', y)\n",
    "    predict = a * x + b # y = ax + b(예측값)\n",
    "    # 오차 총합\n",
    "    sums += (y - predict)**2\n",
    "    \n",
    "print('오차들의 총합 : ', sums)"
   ]
  },
  {
   "cell_type": "markdown",
   "metadata": {},
   "source": [
    "# mission 1"
   ]
  },
  {
   "cell_type": "code",
   "execution_count": 25,
   "metadata": {
    "scrolled": true
   },
   "outputs": [
    {
     "name": "stdout",
     "output_type": "stream",
     "text": [
      "x 좌표는?:  1  / y 좌표는?:  2\n",
      "x 좌표는?:  2  / y 좌표는?:  2.5\n",
      "x 좌표는?:  3  / y 좌표는?:  2\n",
      "x 좌표는?:  3  / y 좌표는?:  3\n",
      "x 좌표는?:  4  / y 좌표는?:  3\n",
      "x 좌표는?:  5  / y 좌표는?:  5\n",
      "x 좌표는?:  6  / y 좌표는?:  2\n",
      "x 좌표는?:  7  / y 좌표는?:  4\n",
      "x 좌표는?:  8  / y 좌표는?:  5\n",
      "오차 :  6.650000000000001\n"
     ]
    }
   ],
   "source": [
    "# a와 b값 수정 했을 때의 오차 확인\n",
    "a = 0.4\n",
    "b = 1.4\n",
    "sums = 0\n",
    "for (x, y) in data:\n",
    "    print('x 좌표는?: ', x, ' / ', end='')\n",
    "    print('y 좌표는?: ', y)\n",
    "    predict = a * x + b\n",
    "    # 오차 총합\n",
    "    sums += (y - predict)**2\n",
    "    \n",
    "print('오차 : ', sums)"
   ]
  },
  {
   "cell_type": "code",
   "execution_count": 24,
   "metadata": {},
   "outputs": [
    {
     "name": "stdout",
     "output_type": "stream",
     "text": [
      "오차:  7.5\n"
     ]
    }
   ],
   "source": [
    "a = 0.5\n",
    "b = 1\n",
    "sums = 0\n",
    "for (x, y) in data:\n",
    "    predict = a * x + b\n",
    "    sums += (y - predict)**2\n",
    "    \n",
    "print(\"오차: \", sums)"
   ]
  },
  {
   "cell_type": "code",
   "execution_count": 23,
   "metadata": {},
   "outputs": [
    {
     "name": "stdout",
     "output_type": "stream",
     "text": [
      "오차:  8.33\n"
     ]
    }
   ],
   "source": [
    "a = 0.4\n",
    "b = 1\n",
    "sums = 0\n",
    "for (x, y) in data:\n",
    "    predict = a * x + b\n",
    "    sums += (y-predict)**2\n",
    "    \n",
    "print(\"오차: \", sums)"
   ]
  },
  {
   "cell_type": "code",
   "execution_count": 20,
   "metadata": {},
   "outputs": [
    {
     "name": "stdout",
     "output_type": "stream",
     "text": [
      "오차:  6.650000000000001\n"
     ]
    }
   ],
   "source": [
    "a = 0.4\n",
    "b = 1.4\n",
    "sums = 0\n",
    "for (x, y) in data:\n",
    "    predict = a * x + b\n",
    "    sums += (y - predict)**2\n",
    "    \n",
    "print(\"오차: \", sums)"
   ]
  },
  {
   "cell_type": "code",
   "execution_count": null,
   "metadata": {},
   "outputs": [],
   "source": []
  }
 ],
 "metadata": {
  "kernelspec": {
   "display_name": "Python 3",
   "language": "python",
   "name": "python3"
  },
  "language_info": {
   "codemirror_mode": {
    "name": "ipython",
    "version": 3
   },
   "file_extension": ".py",
   "mimetype": "text/x-python",
   "name": "python",
   "nbconvert_exporter": "python",
   "pygments_lexer": "ipython3",
   "version": "3.7.6"
  }
 },
 "nbformat": 4,
 "nbformat_minor": 4
}
